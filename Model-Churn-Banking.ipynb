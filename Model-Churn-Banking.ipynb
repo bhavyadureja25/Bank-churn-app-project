{
 "cells": [
  {
   "cell_type": "code",
   "execution_count": 21,
   "metadata": {},
   "outputs": [],
   "source": [
    "import pandas as pd\n",
    "import numpy as np\n",
    "import matplotlib.pyplot as plt\n",
    "import seaborn as sns\n",
    "%matplotlib inline\n",
    "import warnings\n",
    "warnings.filterwarnings(\"ignore\")\n",
    "\n",
    "#importing grid search, f1 score, \n",
    "from sklearn.model_selection import GridSearchCV\n",
    "from sklearn.model_selection import RandomizedSearchCV\n",
    "from sklearn.metrics import recall_score\n",
    "from sklearn.metrics import precision_score\n",
    "from sklearn.metrics import f1_score\n",
    "from sklearn.metrics import confusion_matrix\n",
    "from sklearn.metrics import roc_auc_score\n",
    "from sklearn.metrics import roc_curve\n",
    "from sklearn.metrics import accuracy_score\n",
    "from sklearn.linear_model import LogisticRegression\n",
    "from imblearn.over_sampling import ADASYN\n",
    "\n",
    "import pickle"
   ]
  },
  {
   "cell_type": "code",
   "execution_count": 3,
   "metadata": {},
   "outputs": [
    {
     "data": {
      "text/html": [
       "<div>\n",
       "<style scoped>\n",
       "    .dataframe tbody tr th:only-of-type {\n",
       "        vertical-align: middle;\n",
       "    }\n",
       "\n",
       "    .dataframe tbody tr th {\n",
       "        vertical-align: top;\n",
       "    }\n",
       "\n",
       "    .dataframe thead th {\n",
       "        text-align: right;\n",
       "    }\n",
       "</style>\n",
       "<table border=\"1\" class=\"dataframe\">\n",
       "  <thead>\n",
       "    <tr style=\"text-align: right;\">\n",
       "      <th></th>\n",
       "      <th>RowNumber</th>\n",
       "      <th>CustomerId</th>\n",
       "      <th>Surname</th>\n",
       "      <th>CreditScore</th>\n",
       "      <th>Geography</th>\n",
       "      <th>Gender</th>\n",
       "      <th>Age</th>\n",
       "      <th>Tenure</th>\n",
       "      <th>Balance</th>\n",
       "      <th>NumOfProducts</th>\n",
       "      <th>HasCrCard</th>\n",
       "      <th>IsActiveMember</th>\n",
       "      <th>EstimatedSalary</th>\n",
       "      <th>Exited</th>\n",
       "    </tr>\n",
       "  </thead>\n",
       "  <tbody>\n",
       "    <tr>\n",
       "      <th>0</th>\n",
       "      <td>1</td>\n",
       "      <td>15634602</td>\n",
       "      <td>Hargrave</td>\n",
       "      <td>619</td>\n",
       "      <td>France</td>\n",
       "      <td>Female</td>\n",
       "      <td>42</td>\n",
       "      <td>2</td>\n",
       "      <td>0.00</td>\n",
       "      <td>1</td>\n",
       "      <td>1</td>\n",
       "      <td>1</td>\n",
       "      <td>101348.88</td>\n",
       "      <td>1</td>\n",
       "    </tr>\n",
       "    <tr>\n",
       "      <th>1</th>\n",
       "      <td>2</td>\n",
       "      <td>15647311</td>\n",
       "      <td>Hill</td>\n",
       "      <td>608</td>\n",
       "      <td>Spain</td>\n",
       "      <td>Female</td>\n",
       "      <td>41</td>\n",
       "      <td>1</td>\n",
       "      <td>83807.86</td>\n",
       "      <td>1</td>\n",
       "      <td>0</td>\n",
       "      <td>1</td>\n",
       "      <td>112542.58</td>\n",
       "      <td>0</td>\n",
       "    </tr>\n",
       "    <tr>\n",
       "      <th>2</th>\n",
       "      <td>3</td>\n",
       "      <td>15619304</td>\n",
       "      <td>Onio</td>\n",
       "      <td>502</td>\n",
       "      <td>France</td>\n",
       "      <td>Female</td>\n",
       "      <td>42</td>\n",
       "      <td>8</td>\n",
       "      <td>159660.80</td>\n",
       "      <td>3</td>\n",
       "      <td>1</td>\n",
       "      <td>0</td>\n",
       "      <td>113931.57</td>\n",
       "      <td>1</td>\n",
       "    </tr>\n",
       "    <tr>\n",
       "      <th>3</th>\n",
       "      <td>4</td>\n",
       "      <td>15701354</td>\n",
       "      <td>Boni</td>\n",
       "      <td>699</td>\n",
       "      <td>France</td>\n",
       "      <td>Female</td>\n",
       "      <td>39</td>\n",
       "      <td>1</td>\n",
       "      <td>0.00</td>\n",
       "      <td>2</td>\n",
       "      <td>0</td>\n",
       "      <td>0</td>\n",
       "      <td>93826.63</td>\n",
       "      <td>0</td>\n",
       "    </tr>\n",
       "    <tr>\n",
       "      <th>4</th>\n",
       "      <td>5</td>\n",
       "      <td>15737888</td>\n",
       "      <td>Mitchell</td>\n",
       "      <td>850</td>\n",
       "      <td>Spain</td>\n",
       "      <td>Female</td>\n",
       "      <td>43</td>\n",
       "      <td>2</td>\n",
       "      <td>125510.82</td>\n",
       "      <td>1</td>\n",
       "      <td>1</td>\n",
       "      <td>1</td>\n",
       "      <td>79084.10</td>\n",
       "      <td>0</td>\n",
       "    </tr>\n",
       "  </tbody>\n",
       "</table>\n",
       "</div>"
      ],
      "text/plain": [
       "   RowNumber  CustomerId   Surname  CreditScore Geography  Gender  Age  \\\n",
       "0          1    15634602  Hargrave          619    France  Female   42   \n",
       "1          2    15647311      Hill          608     Spain  Female   41   \n",
       "2          3    15619304      Onio          502    France  Female   42   \n",
       "3          4    15701354      Boni          699    France  Female   39   \n",
       "4          5    15737888  Mitchell          850     Spain  Female   43   \n",
       "\n",
       "   Tenure    Balance  NumOfProducts  HasCrCard  IsActiveMember  \\\n",
       "0       2       0.00              1          1               1   \n",
       "1       1   83807.86              1          0               1   \n",
       "2       8  159660.80              3          1               0   \n",
       "3       1       0.00              2          0               0   \n",
       "4       2  125510.82              1          1               1   \n",
       "\n",
       "   EstimatedSalary  Exited  \n",
       "0        101348.88       1  \n",
       "1        112542.58       0  \n",
       "2        113931.57       1  \n",
       "3         93826.63       0  \n",
       "4         79084.10       0  "
      ]
     },
     "execution_count": 3,
     "metadata": {},
     "output_type": "execute_result"
    }
   ],
   "source": [
    "df=pd.read_csv(r\"C:\\Users\\User\\Documents\\Churn modelling\\Churn_Modelling.csv\")\n",
    "df.head()"
   ]
  },
  {
   "cell_type": "code",
   "execution_count": 4,
   "metadata": {},
   "outputs": [
    {
     "data": {
      "text/plain": [
       "(10000, 14)"
      ]
     },
     "execution_count": 4,
     "metadata": {},
     "output_type": "execute_result"
    }
   ],
   "source": [
    "df.shape"
   ]
  },
  {
   "cell_type": "code",
   "execution_count": 5,
   "metadata": {},
   "outputs": [],
   "source": [
    "df.drop(['Surname','RowNumber'], axis=1,inplace=True)"
   ]
  },
  {
   "cell_type": "code",
   "execution_count": 6,
   "metadata": {},
   "outputs": [],
   "source": [
    "numerical_feature=df.drop(df[['Geography','Gender']], axis=1)"
   ]
  },
  {
   "cell_type": "code",
   "execution_count": 7,
   "metadata": {},
   "outputs": [
    {
     "data": {
      "text/html": [
       "<div>\n",
       "<style scoped>\n",
       "    .dataframe tbody tr th:only-of-type {\n",
       "        vertical-align: middle;\n",
       "    }\n",
       "\n",
       "    .dataframe tbody tr th {\n",
       "        vertical-align: top;\n",
       "    }\n",
       "\n",
       "    .dataframe thead th {\n",
       "        text-align: right;\n",
       "    }\n",
       "</style>\n",
       "<table border=\"1\" class=\"dataframe\">\n",
       "  <thead>\n",
       "    <tr style=\"text-align: right;\">\n",
       "      <th></th>\n",
       "      <th>N</th>\n",
       "      <th>NMISS</th>\n",
       "      <th>SUM</th>\n",
       "      <th>MEAN</th>\n",
       "      <th>MEDIAN</th>\n",
       "      <th>STD</th>\n",
       "      <th>VAR</th>\n",
       "      <th>MIN</th>\n",
       "      <th>P1</th>\n",
       "      <th>P5</th>\n",
       "      <th>P10</th>\n",
       "      <th>P25</th>\n",
       "      <th>P50</th>\n",
       "      <th>P75</th>\n",
       "      <th>P90</th>\n",
       "      <th>P95</th>\n",
       "      <th>P99</th>\n",
       "      <th>MAX</th>\n",
       "    </tr>\n",
       "  </thead>\n",
       "  <tbody>\n",
       "    <tr>\n",
       "      <th>CustomerId</th>\n",
       "      <td>10000.0</td>\n",
       "      <td>0.0</td>\n",
       "      <td>1.569094e+11</td>\n",
       "      <td>1.569094e+07</td>\n",
       "      <td>1.569074e+07</td>\n",
       "      <td>71936.186123</td>\n",
       "      <td>5.174815e+09</td>\n",
       "      <td>15565701.00</td>\n",
       "      <td>1.556851e+07</td>\n",
       "      <td>1.557882e+07</td>\n",
       "      <td>15591167.10</td>\n",
       "      <td>15628528.25</td>\n",
       "      <td>1.569074e+07</td>\n",
       "      <td>1.575323e+07</td>\n",
       "      <td>1.579083e+07</td>\n",
       "      <td>1.580303e+07</td>\n",
       "      <td>1.581311e+07</td>\n",
       "      <td>15815690.00</td>\n",
       "    </tr>\n",
       "    <tr>\n",
       "      <th>CreditScore</th>\n",
       "      <td>10000.0</td>\n",
       "      <td>0.0</td>\n",
       "      <td>6.505288e+06</td>\n",
       "      <td>6.505288e+02</td>\n",
       "      <td>6.520000e+02</td>\n",
       "      <td>96.653299</td>\n",
       "      <td>9.341860e+03</td>\n",
       "      <td>350.00</td>\n",
       "      <td>4.320000e+02</td>\n",
       "      <td>4.890000e+02</td>\n",
       "      <td>521.00</td>\n",
       "      <td>584.00</td>\n",
       "      <td>6.520000e+02</td>\n",
       "      <td>7.180000e+02</td>\n",
       "      <td>7.780000e+02</td>\n",
       "      <td>8.120000e+02</td>\n",
       "      <td>8.500000e+02</td>\n",
       "      <td>850.00</td>\n",
       "    </tr>\n",
       "    <tr>\n",
       "      <th>Age</th>\n",
       "      <td>10000.0</td>\n",
       "      <td>0.0</td>\n",
       "      <td>3.892180e+05</td>\n",
       "      <td>3.892180e+01</td>\n",
       "      <td>3.700000e+01</td>\n",
       "      <td>10.487806</td>\n",
       "      <td>1.099941e+02</td>\n",
       "      <td>18.00</td>\n",
       "      <td>2.100000e+01</td>\n",
       "      <td>2.500000e+01</td>\n",
       "      <td>27.00</td>\n",
       "      <td>32.00</td>\n",
       "      <td>3.700000e+01</td>\n",
       "      <td>4.400000e+01</td>\n",
       "      <td>5.300000e+01</td>\n",
       "      <td>6.000000e+01</td>\n",
       "      <td>7.200000e+01</td>\n",
       "      <td>92.00</td>\n",
       "    </tr>\n",
       "    <tr>\n",
       "      <th>Tenure</th>\n",
       "      <td>10000.0</td>\n",
       "      <td>0.0</td>\n",
       "      <td>5.012800e+04</td>\n",
       "      <td>5.012800e+00</td>\n",
       "      <td>5.000000e+00</td>\n",
       "      <td>2.892174</td>\n",
       "      <td>8.364673e+00</td>\n",
       "      <td>0.00</td>\n",
       "      <td>0.000000e+00</td>\n",
       "      <td>1.000000e+00</td>\n",
       "      <td>1.00</td>\n",
       "      <td>3.00</td>\n",
       "      <td>5.000000e+00</td>\n",
       "      <td>7.000000e+00</td>\n",
       "      <td>9.000000e+00</td>\n",
       "      <td>9.000000e+00</td>\n",
       "      <td>1.000000e+01</td>\n",
       "      <td>10.00</td>\n",
       "    </tr>\n",
       "    <tr>\n",
       "      <th>Balance</th>\n",
       "      <td>10000.0</td>\n",
       "      <td>0.0</td>\n",
       "      <td>7.648589e+08</td>\n",
       "      <td>7.648589e+04</td>\n",
       "      <td>9.719854e+04</td>\n",
       "      <td>62397.405202</td>\n",
       "      <td>3.893436e+09</td>\n",
       "      <td>0.00</td>\n",
       "      <td>0.000000e+00</td>\n",
       "      <td>0.000000e+00</td>\n",
       "      <td>0.00</td>\n",
       "      <td>0.00</td>\n",
       "      <td>9.719854e+04</td>\n",
       "      <td>1.276442e+05</td>\n",
       "      <td>1.492448e+05</td>\n",
       "      <td>1.627117e+05</td>\n",
       "      <td>1.859680e+05</td>\n",
       "      <td>250898.09</td>\n",
       "    </tr>\n",
       "    <tr>\n",
       "      <th>NumOfProducts</th>\n",
       "      <td>10000.0</td>\n",
       "      <td>0.0</td>\n",
       "      <td>1.530200e+04</td>\n",
       "      <td>1.530200e+00</td>\n",
       "      <td>1.000000e+00</td>\n",
       "      <td>0.581654</td>\n",
       "      <td>3.383218e-01</td>\n",
       "      <td>1.00</td>\n",
       "      <td>1.000000e+00</td>\n",
       "      <td>1.000000e+00</td>\n",
       "      <td>1.00</td>\n",
       "      <td>1.00</td>\n",
       "      <td>1.000000e+00</td>\n",
       "      <td>2.000000e+00</td>\n",
       "      <td>2.000000e+00</td>\n",
       "      <td>2.000000e+00</td>\n",
       "      <td>3.000000e+00</td>\n",
       "      <td>4.00</td>\n",
       "    </tr>\n",
       "    <tr>\n",
       "      <th>HasCrCard</th>\n",
       "      <td>10000.0</td>\n",
       "      <td>0.0</td>\n",
       "      <td>7.055000e+03</td>\n",
       "      <td>7.055000e-01</td>\n",
       "      <td>1.000000e+00</td>\n",
       "      <td>0.455840</td>\n",
       "      <td>2.077905e-01</td>\n",
       "      <td>0.00</td>\n",
       "      <td>0.000000e+00</td>\n",
       "      <td>0.000000e+00</td>\n",
       "      <td>0.00</td>\n",
       "      <td>0.00</td>\n",
       "      <td>1.000000e+00</td>\n",
       "      <td>1.000000e+00</td>\n",
       "      <td>1.000000e+00</td>\n",
       "      <td>1.000000e+00</td>\n",
       "      <td>1.000000e+00</td>\n",
       "      <td>1.00</td>\n",
       "    </tr>\n",
       "    <tr>\n",
       "      <th>IsActiveMember</th>\n",
       "      <td>10000.0</td>\n",
       "      <td>0.0</td>\n",
       "      <td>5.151000e+03</td>\n",
       "      <td>5.151000e-01</td>\n",
       "      <td>1.000000e+00</td>\n",
       "      <td>0.499797</td>\n",
       "      <td>2.497970e-01</td>\n",
       "      <td>0.00</td>\n",
       "      <td>0.000000e+00</td>\n",
       "      <td>0.000000e+00</td>\n",
       "      <td>0.00</td>\n",
       "      <td>0.00</td>\n",
       "      <td>1.000000e+00</td>\n",
       "      <td>1.000000e+00</td>\n",
       "      <td>1.000000e+00</td>\n",
       "      <td>1.000000e+00</td>\n",
       "      <td>1.000000e+00</td>\n",
       "      <td>1.00</td>\n",
       "    </tr>\n",
       "    <tr>\n",
       "      <th>EstimatedSalary</th>\n",
       "      <td>10000.0</td>\n",
       "      <td>0.0</td>\n",
       "      <td>1.000902e+09</td>\n",
       "      <td>1.000902e+05</td>\n",
       "      <td>1.001939e+05</td>\n",
       "      <td>57510.492818</td>\n",
       "      <td>3.307457e+09</td>\n",
       "      <td>11.58</td>\n",
       "      <td>1.842825e+03</td>\n",
       "      <td>9.851819e+03</td>\n",
       "      <td>20273.58</td>\n",
       "      <td>51002.11</td>\n",
       "      <td>1.001939e+05</td>\n",
       "      <td>1.493882e+05</td>\n",
       "      <td>1.796747e+05</td>\n",
       "      <td>1.901554e+05</td>\n",
       "      <td>1.980697e+05</td>\n",
       "      <td>199992.48</td>\n",
       "    </tr>\n",
       "    <tr>\n",
       "      <th>Exited</th>\n",
       "      <td>10000.0</td>\n",
       "      <td>0.0</td>\n",
       "      <td>2.037000e+03</td>\n",
       "      <td>2.037000e-01</td>\n",
       "      <td>0.000000e+00</td>\n",
       "      <td>0.402769</td>\n",
       "      <td>1.622225e-01</td>\n",
       "      <td>0.00</td>\n",
       "      <td>0.000000e+00</td>\n",
       "      <td>0.000000e+00</td>\n",
       "      <td>0.00</td>\n",
       "      <td>0.00</td>\n",
       "      <td>0.000000e+00</td>\n",
       "      <td>0.000000e+00</td>\n",
       "      <td>1.000000e+00</td>\n",
       "      <td>1.000000e+00</td>\n",
       "      <td>1.000000e+00</td>\n",
       "      <td>1.00</td>\n",
       "    </tr>\n",
       "  </tbody>\n",
       "</table>\n",
       "</div>"
      ],
      "text/plain": [
       "                       N  NMISS           SUM          MEAN        MEDIAN  \\\n",
       "CustomerId       10000.0    0.0  1.569094e+11  1.569094e+07  1.569074e+07   \n",
       "CreditScore      10000.0    0.0  6.505288e+06  6.505288e+02  6.520000e+02   \n",
       "Age              10000.0    0.0  3.892180e+05  3.892180e+01  3.700000e+01   \n",
       "Tenure           10000.0    0.0  5.012800e+04  5.012800e+00  5.000000e+00   \n",
       "Balance          10000.0    0.0  7.648589e+08  7.648589e+04  9.719854e+04   \n",
       "NumOfProducts    10000.0    0.0  1.530200e+04  1.530200e+00  1.000000e+00   \n",
       "HasCrCard        10000.0    0.0  7.055000e+03  7.055000e-01  1.000000e+00   \n",
       "IsActiveMember   10000.0    0.0  5.151000e+03  5.151000e-01  1.000000e+00   \n",
       "EstimatedSalary  10000.0    0.0  1.000902e+09  1.000902e+05  1.001939e+05   \n",
       "Exited           10000.0    0.0  2.037000e+03  2.037000e-01  0.000000e+00   \n",
       "\n",
       "                          STD           VAR          MIN            P1  \\\n",
       "CustomerId       71936.186123  5.174815e+09  15565701.00  1.556851e+07   \n",
       "CreditScore         96.653299  9.341860e+03       350.00  4.320000e+02   \n",
       "Age                 10.487806  1.099941e+02        18.00  2.100000e+01   \n",
       "Tenure               2.892174  8.364673e+00         0.00  0.000000e+00   \n",
       "Balance          62397.405202  3.893436e+09         0.00  0.000000e+00   \n",
       "NumOfProducts        0.581654  3.383218e-01         1.00  1.000000e+00   \n",
       "HasCrCard            0.455840  2.077905e-01         0.00  0.000000e+00   \n",
       "IsActiveMember       0.499797  2.497970e-01         0.00  0.000000e+00   \n",
       "EstimatedSalary  57510.492818  3.307457e+09        11.58  1.842825e+03   \n",
       "Exited               0.402769  1.622225e-01         0.00  0.000000e+00   \n",
       "\n",
       "                           P5          P10          P25           P50  \\\n",
       "CustomerId       1.557882e+07  15591167.10  15628528.25  1.569074e+07   \n",
       "CreditScore      4.890000e+02       521.00       584.00  6.520000e+02   \n",
       "Age              2.500000e+01        27.00        32.00  3.700000e+01   \n",
       "Tenure           1.000000e+00         1.00         3.00  5.000000e+00   \n",
       "Balance          0.000000e+00         0.00         0.00  9.719854e+04   \n",
       "NumOfProducts    1.000000e+00         1.00         1.00  1.000000e+00   \n",
       "HasCrCard        0.000000e+00         0.00         0.00  1.000000e+00   \n",
       "IsActiveMember   0.000000e+00         0.00         0.00  1.000000e+00   \n",
       "EstimatedSalary  9.851819e+03     20273.58     51002.11  1.001939e+05   \n",
       "Exited           0.000000e+00         0.00         0.00  0.000000e+00   \n",
       "\n",
       "                          P75           P90           P95           P99  \\\n",
       "CustomerId       1.575323e+07  1.579083e+07  1.580303e+07  1.581311e+07   \n",
       "CreditScore      7.180000e+02  7.780000e+02  8.120000e+02  8.500000e+02   \n",
       "Age              4.400000e+01  5.300000e+01  6.000000e+01  7.200000e+01   \n",
       "Tenure           7.000000e+00  9.000000e+00  9.000000e+00  1.000000e+01   \n",
       "Balance          1.276442e+05  1.492448e+05  1.627117e+05  1.859680e+05   \n",
       "NumOfProducts    2.000000e+00  2.000000e+00  2.000000e+00  3.000000e+00   \n",
       "HasCrCard        1.000000e+00  1.000000e+00  1.000000e+00  1.000000e+00   \n",
       "IsActiveMember   1.000000e+00  1.000000e+00  1.000000e+00  1.000000e+00   \n",
       "EstimatedSalary  1.493882e+05  1.796747e+05  1.901554e+05  1.980697e+05   \n",
       "Exited           0.000000e+00  1.000000e+00  1.000000e+00  1.000000e+00   \n",
       "\n",
       "                         MAX  \n",
       "CustomerId       15815690.00  \n",
       "CreditScore           850.00  \n",
       "Age                    92.00  \n",
       "Tenure                 10.00  \n",
       "Balance            250898.09  \n",
       "NumOfProducts           4.00  \n",
       "HasCrCard               1.00  \n",
       "IsActiveMember          1.00  \n",
       "EstimatedSalary    199992.48  \n",
       "Exited                  1.00  "
      ]
     },
     "execution_count": 7,
     "metadata": {},
     "output_type": "execute_result"
    }
   ],
   "source": [
    "#checking outliers\n",
    "def var_summary(x):\n",
    "    return pd.Series([x.count(), x.isnull().sum(), x.sum(), x.mean(), x.median(),  x.std(), x.var(), x.min(), x.dropna().quantile(0.01), x.dropna().quantile(0.05),x.dropna().quantile(0.10),x.dropna().quantile(0.25),x.dropna().quantile(0.50),x.dropna().quantile(0.75), x.dropna().quantile(0.90),x.dropna().quantile(0.95), x.dropna().quantile(0.99),x.max()],\n",
    "                  index=['N', 'NMISS', 'SUM', 'MEAN','MEDIAN', 'STD', 'VAR', 'MIN', 'P1' , 'P5' ,'P10' ,'P25' ,'P50' ,'P75' ,'P90' ,'P95' ,'P99' ,'MAX'])\n",
    "\n",
    "num_summary=numerical_feature.apply(lambda x: var_summary(x)).T\n",
    "num_summary"
   ]
  },
  {
   "cell_type": "code",
   "execution_count": 8,
   "metadata": {},
   "outputs": [],
   "source": [
    "#Capping outliers at 1th and 99th percentile from Age, Balance and Estimated Salary\n",
    "df['Age']=df['Age'].clip(21,72)\n",
    "df['Balance']=df['Balance'].clip(0,185967.9854)\n",
    "df['EstimatedSalary']=df['EstimatedSalary'].clip(11.58,198069.7345)"
   ]
  },
  {
   "cell_type": "code",
   "execution_count": 9,
   "metadata": {},
   "outputs": [],
   "source": [
    "#creating dummies for gender\n",
    "df=pd.get_dummies(df,columns=['Gender'],drop_first=True)"
   ]
  },
  {
   "cell_type": "code",
   "execution_count": 10,
   "metadata": {},
   "outputs": [],
   "source": [
    "#creating codes for geographic location\n",
    "df['Geography']=df['Geography'].astype('category')\n",
    "df['Geography']=df['Geography'].cat.codes"
   ]
  },
  {
   "cell_type": "code",
   "execution_count": 11,
   "metadata": {},
   "outputs": [],
   "source": [
    "#feature engineering\n",
    "try:\n",
    "    df['age_to_tenure']=df['Age']/df['Tenure']\n",
    "    df['BalanceToSalaryRatio']=df.EstimatedSalary/df.Balance\n",
    "    df['ScoreToBalance']=df.CreditScore/df.Balance\n",
    "    df['SalaryToAge']=df.Age/df.EstimatedSalary\n",
    "    df['ProductsToBalance']=df.NumOfProducts/df.Balance\n",
    "except:\n",
    "    df['age_to_tenure']=0\n",
    "    df['BalanceToSalaryRatio']=0\n",
    "    df['ScoreToBalance']=0\n",
    "    df['SalaryToAge']=0\n",
    "    df['ProductsToBalance']=0\n",
    "\n",
    "df=df.replace([np.inf, -np.inf], 0)"
   ]
  },
  {
   "cell_type": "code",
   "execution_count": 12,
   "metadata": {},
   "outputs": [
    {
     "data": {
      "text/plain": [
       "<matplotlib.axes._subplots.AxesSubplot at 0x1645b6ad8c8>"
      ]
     },
     "execution_count": 12,
     "metadata": {},
     "output_type": "execute_result"
    },
    {
     "data": {
      "image/png": "[encoded data removed]",
      "text/plain": [
       "<Figure size 720x576 with 2 Axes>"
      ]
     },
     "metadata": {
      "needs_background": "light"
     },
     "output_type": "display_data"
    }
   ],
   "source": [
    "corr=df.corr()\n",
    "plt.figure(figsize=(10,8))\n",
    "sns.heatmap(corr)"
   ]
  },
  {
   "cell_type": "code",
   "execution_count": 13,
   "metadata": {},
   "outputs": [
    {
     "data": {
      "text/plain": [
       "CustomerId               0.001149\n",
       "CreditScore             -0.071607\n",
       "Geography                0.500916\n",
       "Age                      0.933032\n",
       "Tenure                   0.010991\n",
       "Balance                 -0.158375\n",
       "NumOfProducts            0.745568\n",
       "HasCrCard               -0.901812\n",
       "IsActiveMember          -0.060437\n",
       "EstimatedSalary          0.001077\n",
       "Exited                   1.471611\n",
       "Gender_Male             -0.183596\n",
       "age_to_tenure            2.183452\n",
       "BalanceToSalaryRatio    19.187826\n",
       "ScoreToBalance          13.342064\n",
       "SalaryToAge             87.320805\n",
       "ProductsToBalance       16.337533\n",
       "dtype: float64"
      ]
     },
     "execution_count": 13,
     "metadata": {},
     "output_type": "execute_result"
    }
   ],
   "source": [
    "#checking skewness\n",
    "df.skew()"
   ]
  },
  {
   "cell_type": "code",
   "execution_count": 14,
   "metadata": {},
   "outputs": [
    {
     "data": {
      "text/plain": [
       "Index(['CustomerId', 'CreditScore', 'Geography', 'Age', 'Tenure', 'Balance',\n",
       "       'NumOfProducts', 'HasCrCard', 'IsActiveMember', 'EstimatedSalary',\n",
       "       'Exited', 'Gender_Male', 'age_to_tenure', 'BalanceToSalaryRatio',\n",
       "       'ScoreToBalance', 'SalaryToAge', 'ProductsToBalance'],\n",
       "      dtype='object')"
      ]
     },
     "execution_count": 14,
     "metadata": {},
     "output_type": "execute_result"
    }
   ],
   "source": [
    "df.columns"
   ]
  },
  {
   "cell_type": "code",
   "execution_count": 15,
   "metadata": {},
   "outputs": [
    {
     "name": "stdout",
     "output_type": "stream",
     "text": [
      "x_train:  (12752, 15)\n",
      "y_train:  (12752, 1)\n",
      "x_test:  (3189, 15)\n",
      "y_test:  (3189, 1)\n"
     ]
    }
   ],
   "source": [
    "#importing train test \n",
    "from sklearn.model_selection import train_test_split\n",
    "y=df[['Exited']]\n",
    "x=df.drop(['Exited','CustomerId'],axis=1)\n",
    "\n",
    "#Applying upsampling using ADASYN\n",
    "\n",
    "x_resampled, y_resampled = ADASYN().fit_sample(x, y)\n",
    "\n",
    "x_train, x_test, y_train, y_test=train_test_split(x_resampled,y_resampled,test_size=0.2,random_state=123)\n",
    "\n",
    "print('x_train: ',x_train.shape)\n",
    "print('y_train: ',y_train.shape)\n",
    "print('x_test: ',x_test.shape)\n",
    "print('y_test: ',y_test.shape)"
   ]
  },
  {
   "cell_type": "code",
   "execution_count": 16,
   "metadata": {},
   "outputs": [],
   "source": [
    "from sklearn.preprocessing import StandardScaler\n",
    "Stdscaler=StandardScaler()\n",
    "x_train_s=Stdscaler.fit_transform(x_train)\n",
    "x_test_s=Stdscaler.transform(x_test)"
   ]
  },
  {
   "cell_type": "code",
   "execution_count": 17,
   "metadata": {},
   "outputs": [
    {
     "name": "stdout",
     "output_type": "stream",
     "text": [
      "{'C': array([1.00000000e+00, 2.78255940e+00, 7.74263683e+00, 2.15443469e+01,\n",
      "       5.99484250e+01, 1.66810054e+02, 4.64158883e+02, 1.29154967e+03,\n",
      "       3.59381366e+03, 1.00000000e+04]), 'penalty': ['l1', 'l2'], 'class_weight': ['balanced', None]}\n"
     ]
    }
   ],
   "source": [
    "# parameters = {'C':[0.01, 0.1, 1, 10, 20, 30], 'penalty':['l2','l1']}\n",
    "penalty=['l1','l2']\n",
    "C=np.logspace(0,4,10)\n",
    "class_weight=['balanced',None]\n",
    "hyperparamters=dict(C=C,penalty=penalty,class_weight=class_weight)\n",
    "print(hyperparamters)\n",
    "grid_search=GridSearchCV(LogisticRegression(solver='liblinear'),hyperparamters,cv=5,verbose=1,scoring='f1',n_jobs=-1)"
   ]
  },
  {
   "cell_type": "code",
   "execution_count": 18,
   "metadata": {},
   "outputs": [
    {
     "name": "stdout",
     "output_type": "stream",
     "text": [
      "Fitting 5 folds for each of 40 candidates, totalling 200 fits\n"
     ]
    },
    {
     "name": "stderr",
     "output_type": "stream",
     "text": [
      "[Parallel(n_jobs=-1)]: Using backend LokyBackend with 4 concurrent workers.\n",
      "[Parallel(n_jobs=-1)]: Done  42 tasks      | elapsed:    5.4s\n",
      "[Parallel(n_jobs=-1)]: Done 192 tasks      | elapsed:   11.4s\n"
     ]
    },
    {
     "name": "stdout",
     "output_type": "stream",
     "text": [
      "0.7923800685239281\n",
      "{'C': 1.0, 'class_weight': 'balanced', 'penalty': 'l2'}\n"
     ]
    },
    {
     "name": "stderr",
     "output_type": "stream",
     "text": [
      "[Parallel(n_jobs=-1)]: Done 200 out of 200 | elapsed:   11.8s finished\n"
     ]
    }
   ],
   "source": [
    "grid_search.fit(x_train_s,y_train)\n",
    "print(grid_search.best_score_)\n",
    "print(grid_search.best_params_)"
   ]
  },
  {
   "cell_type": "code",
   "execution_count": 19,
   "metadata": {},
   "outputs": [
    {
     "name": "stdout",
     "output_type": "stream",
     "text": [
      "Train f1 score:  0.7265762170790104\n",
      "Test f1 score:  0.7304850626405397\n"
     ]
    }
   ],
   "source": [
    "LR_optimal=LogisticRegression(penalty='l2',C=1.0,class_weight='balanced',solver='liblinear')\n",
    "LR_optimal.fit(x_train,y_train)\n",
    "\n",
    "pred_ytrain=LR_optimal.predict(x_train_s)\n",
    "pred_ytest=LR_optimal.predict(x_test_s)\n",
    "\n",
    "f1score_train=f1_score(y_train,pred_ytrain)\n",
    "f1score_test=f1_score(y_test, pred_ytest)\n",
    "\n",
    "print('Train f1 score: ',f1score_train)\n",
    "print('Test f1 score: ',f1score_test)"
   ]
  },
  {
   "cell_type": "code",
   "execution_count": 23,
   "metadata": {},
   "outputs": [],
   "source": [
    "#Saving model and standardise as pickle file\n",
    "pickle.dump(x_train_s, open(\"scaler.pkl\", 'wb'))\n",
    "pickle.dump(LR_optimal, open(\"model.pkl\", 'wb'))"
   ]
  },
  {
   "cell_type": "code",
   "execution_count": null,
   "metadata": {},
   "outputs": [],
   "source": []
  }
 ],
 "metadata": {
  "kernelspec": {
   "display_name": "Python 3",
   "language": "python",
   "name": "python3"
  },
  "language_info": {
   "codemirror_mode": {
    "name": "ipython",
    "version": 3
   },
   "file_extension": ".py",
   "mimetype": "text/x-python",
   "name": "python",
   "nbconvert_exporter": "python",
   "pygments_lexer": "ipython3",
   "version": "3.7.6"
  }
 },
 "nbformat": 4,
 "nbformat_minor": 4
}
